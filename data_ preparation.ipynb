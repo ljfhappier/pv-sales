{
 "cells": [
  {
   "cell_type": "code",
   "execution_count": 1,
   "metadata": {},
   "outputs": [],
   "source": [
    "# merge data\n",
    "# data transformation\n",
    "# store preprocessing data\n",
    "import numpy as np\n",
    "import pandas as pd\n",
    "import os"
   ]
  },
  {
   "cell_type": "code",
   "execution_count": 2,
   "metadata": {},
   "outputs": [],
   "source": [
    "import warnings\n",
    "warnings.filterwarnings('ignore')"
   ]
  },
  {
   "cell_type": "code",
   "execution_count": 3,
   "metadata": {},
   "outputs": [],
   "source": [
    "from joblib import dump,load"
   ]
  },
  {
   "cell_type": "code",
   "execution_count": 4,
   "metadata": {},
   "outputs": [
    {
     "name": "stdout",
     "output_type": "stream",
     "text": [
      " 驱动器 C 中的卷没有标签。\n",
      " 卷的序列号是 0006-FDC5\n",
      "\n",
      " C:\\Users\\dell\\dockerdata\\乘用车细分市场销量预测\\data 的目录\n",
      "\n",
      "2019/09/24  17:14    <DIR>          .\n",
      "2019/09/24  17:14    <DIR>          ..\n",
      "2019/09/11  13:30           237,991 evaluation_public.csv\n",
      "2019/09/19  14:39            51,762 mean_predicting_data.csv\n",
      "2019/09/25  17:53            51,255 rf_prediction_default.csv\n",
      "2019/09/11  13:31            51,712 submit_example.csv\n",
      "2019/09/20  16:14            51,711 svr_predicting_sales.csv\n",
      "2019/08/23  17:36           369,997 Train.zip\n",
      "2019/09/12  15:33         1,545,277 train_sales_data.csv\n",
      "2019/09/12  15:33         1,399,503 train_search_data.csv\n",
      "2019/09/12  15:33            47,975 train_user_reply_data.csv\n",
      "               9 个文件      3,807,183 字节\n",
      "               2 个目录 47,271,370,752 可用字节\n"
     ]
    }
   ],
   "source": [
    "!dir data"
   ]
  },
  {
   "cell_type": "code",
   "execution_count": 5,
   "metadata": {},
   "outputs": [],
   "source": [
    "train_sales_data=pd.read_csv('data/train_sales_data.csv')"
   ]
  },
  {
   "cell_type": "code",
   "execution_count": 6,
   "metadata": {},
   "outputs": [],
   "source": [
    "model_bodytype=train_sales_data[['model','bodyType']].drop_duplicates()\n",
    "#model_bodytype.info()"
   ]
  },
  {
   "cell_type": "code",
   "execution_count": 7,
   "metadata": {},
   "outputs": [
    {
     "data": {
      "text/html": [
       "<div>\n",
       "<style scoped>\n",
       "    .dataframe tbody tr th:only-of-type {\n",
       "        vertical-align: middle;\n",
       "    }\n",
       "\n",
       "    .dataframe tbody tr th {\n",
       "        vertical-align: top;\n",
       "    }\n",
       "\n",
       "    .dataframe thead th {\n",
       "        text-align: right;\n",
       "    }\n",
       "</style>\n",
       "<table border=\"1\" class=\"dataframe\">\n",
       "  <thead>\n",
       "    <tr style=\"text-align: right;\">\n",
       "      <th></th>\n",
       "      <th>id</th>\n",
       "      <th>province</th>\n",
       "      <th>adcode</th>\n",
       "      <th>model</th>\n",
       "      <th>regYear</th>\n",
       "      <th>regMonth</th>\n",
       "      <th>forecastVolum</th>\n",
       "    </tr>\n",
       "  </thead>\n",
       "  <tbody>\n",
       "    <tr>\n",
       "      <th>0</th>\n",
       "      <td>1</td>\n",
       "      <td>上海</td>\n",
       "      <td>310000</td>\n",
       "      <td>3c974920a76ac9c1</td>\n",
       "      <td>2018</td>\n",
       "      <td>1</td>\n",
       "      <td>NaN</td>\n",
       "    </tr>\n",
       "    <tr>\n",
       "      <th>1</th>\n",
       "      <td>2</td>\n",
       "      <td>云南</td>\n",
       "      <td>530000</td>\n",
       "      <td>3c974920a76ac9c1</td>\n",
       "      <td>2018</td>\n",
       "      <td>1</td>\n",
       "      <td>NaN</td>\n",
       "    </tr>\n",
       "    <tr>\n",
       "      <th>2</th>\n",
       "      <td>3</td>\n",
       "      <td>内蒙古</td>\n",
       "      <td>150000</td>\n",
       "      <td>3c974920a76ac9c1</td>\n",
       "      <td>2018</td>\n",
       "      <td>1</td>\n",
       "      <td>NaN</td>\n",
       "    </tr>\n",
       "    <tr>\n",
       "      <th>3</th>\n",
       "      <td>4</td>\n",
       "      <td>北京</td>\n",
       "      <td>110000</td>\n",
       "      <td>3c974920a76ac9c1</td>\n",
       "      <td>2018</td>\n",
       "      <td>1</td>\n",
       "      <td>NaN</td>\n",
       "    </tr>\n",
       "    <tr>\n",
       "      <th>4</th>\n",
       "      <td>5</td>\n",
       "      <td>四川</td>\n",
       "      <td>510000</td>\n",
       "      <td>3c974920a76ac9c1</td>\n",
       "      <td>2018</td>\n",
       "      <td>1</td>\n",
       "      <td>NaN</td>\n",
       "    </tr>\n",
       "  </tbody>\n",
       "</table>\n",
       "</div>"
      ],
      "text/plain": [
       "   id province  adcode             model  regYear  regMonth  forecastVolum\n",
       "0   1       上海  310000  3c974920a76ac9c1     2018         1            NaN\n",
       "1   2       云南  530000  3c974920a76ac9c1     2018         1            NaN\n",
       "2   3      内蒙古  150000  3c974920a76ac9c1     2018         1            NaN\n",
       "3   4       北京  110000  3c974920a76ac9c1     2018         1            NaN\n",
       "4   5       四川  510000  3c974920a76ac9c1     2018         1            NaN"
      ]
     },
     "execution_count": 7,
     "metadata": {},
     "output_type": "execute_result"
    }
   ],
   "source": [
    "evaluation_public_data=pd.read_csv('data/evaluation_public.csv')\n",
    "evaluation_public_data.head()"
   ]
  },
  {
   "cell_type": "code",
   "execution_count": 8,
   "metadata": {},
   "outputs": [],
   "source": [
    "train_sales_data_2017=train_sales_data[train_sales_data['regYear']==2017]\n",
    "train_sales_data_2016=train_sales_data[train_sales_data['regYear']==2016]"
   ]
  },
  {
   "cell_type": "code",
   "execution_count": 9,
   "metadata": {},
   "outputs": [
    {
     "data": {
      "text/html": [
       "<div>\n",
       "<style scoped>\n",
       "    .dataframe tbody tr th:only-of-type {\n",
       "        vertical-align: middle;\n",
       "    }\n",
       "\n",
       "    .dataframe tbody tr th {\n",
       "        vertical-align: top;\n",
       "    }\n",
       "\n",
       "    .dataframe thead th {\n",
       "        text-align: right;\n",
       "    }\n",
       "</style>\n",
       "<table border=\"1\" class=\"dataframe\">\n",
       "  <thead>\n",
       "    <tr style=\"text-align: right;\">\n",
       "      <th></th>\n",
       "      <th>province</th>\n",
       "      <th>adcode</th>\n",
       "      <th>model</th>\n",
       "      <th>bodyType</th>\n",
       "      <th>regYear</th>\n",
       "      <th>regMonth</th>\n",
       "      <th>salesVolume</th>\n",
       "    </tr>\n",
       "  </thead>\n",
       "  <tbody>\n",
       "    <tr>\n",
       "      <th>15840</th>\n",
       "      <td>上海</td>\n",
       "      <td>310000</td>\n",
       "      <td>3c974920a76ac9c1</td>\n",
       "      <td>SUV</td>\n",
       "      <td>2017</td>\n",
       "      <td>1</td>\n",
       "      <td>305</td>\n",
       "    </tr>\n",
       "  </tbody>\n",
       "</table>\n",
       "</div>"
      ],
      "text/plain": [
       "      province  adcode             model bodyType  regYear  regMonth  \\\n",
       "15840       上海  310000  3c974920a76ac9c1      SUV     2017         1   \n",
       "\n",
       "       salesVolume  \n",
       "15840          305  "
      ]
     },
     "execution_count": 9,
     "metadata": {},
     "output_type": "execute_result"
    }
   ],
   "source": [
    "train_sales_data_2017.head(1)"
   ]
  },
  {
   "cell_type": "code",
   "execution_count": 10,
   "metadata": {},
   "outputs": [],
   "source": [
    "# merge data on the month of year before\n",
    "def merge_year_before(df,spdf,cols):\n",
    "    '''\n",
    "    input:\n",
    "        df(pd.DataFrame)-the left merging data df\n",
    "        psdf(pd.DataFrame)-the right merging data df\n",
    "    putput:\n",
    "        mergeddf-the left merged data df\n",
    "    '''\n",
    "    onlist=['province','model','regMonth']\n",
    "    mergeddf=pd.merge(df,spdf,on=onlist,how='left',suffixes=('','_year_before'))\n",
    "    #cols=['province','adcode','model','bodyType','regYear','regMonth','salesVolume_year_before','salesVolume']\n",
    "    return mergeddf[cols]"
   ]
  },
  {
   "cell_type": "code",
   "execution_count": 11,
   "metadata": {},
   "outputs": [
    {
     "data": {
      "text/html": [
       "<div>\n",
       "<style scoped>\n",
       "    .dataframe tbody tr th:only-of-type {\n",
       "        vertical-align: middle;\n",
       "    }\n",
       "\n",
       "    .dataframe tbody tr th {\n",
       "        vertical-align: top;\n",
       "    }\n",
       "\n",
       "    .dataframe thead th {\n",
       "        text-align: right;\n",
       "    }\n",
       "</style>\n",
       "<table border=\"1\" class=\"dataframe\">\n",
       "  <thead>\n",
       "    <tr style=\"text-align: right;\">\n",
       "      <th></th>\n",
       "      <th>province</th>\n",
       "      <th>adcode</th>\n",
       "      <th>model</th>\n",
       "      <th>bodyType</th>\n",
       "      <th>regYear</th>\n",
       "      <th>regMonth</th>\n",
       "      <th>salesVolume_year_before</th>\n",
       "      <th>salesVolume</th>\n",
       "    </tr>\n",
       "  </thead>\n",
       "  <tbody>\n",
       "    <tr>\n",
       "      <th>0</th>\n",
       "      <td>上海</td>\n",
       "      <td>310000</td>\n",
       "      <td>3c974920a76ac9c1</td>\n",
       "      <td>SUV</td>\n",
       "      <td>2017</td>\n",
       "      <td>1</td>\n",
       "      <td>292</td>\n",
       "      <td>305</td>\n",
       "    </tr>\n",
       "    <tr>\n",
       "      <th>1</th>\n",
       "      <td>云南</td>\n",
       "      <td>530000</td>\n",
       "      <td>3c974920a76ac9c1</td>\n",
       "      <td>SUV</td>\n",
       "      <td>2017</td>\n",
       "      <td>1</td>\n",
       "      <td>466</td>\n",
       "      <td>434</td>\n",
       "    </tr>\n",
       "    <tr>\n",
       "      <th>2</th>\n",
       "      <td>内蒙古</td>\n",
       "      <td>150000</td>\n",
       "      <td>3c974920a76ac9c1</td>\n",
       "      <td>SUV</td>\n",
       "      <td>2017</td>\n",
       "      <td>1</td>\n",
       "      <td>257</td>\n",
       "      <td>180</td>\n",
       "    </tr>\n",
       "    <tr>\n",
       "      <th>3</th>\n",
       "      <td>北京</td>\n",
       "      <td>110000</td>\n",
       "      <td>3c974920a76ac9c1</td>\n",
       "      <td>SUV</td>\n",
       "      <td>2017</td>\n",
       "      <td>1</td>\n",
       "      <td>408</td>\n",
       "      <td>468</td>\n",
       "    </tr>\n",
       "    <tr>\n",
       "      <th>4</th>\n",
       "      <td>四川</td>\n",
       "      <td>510000</td>\n",
       "      <td>3c974920a76ac9c1</td>\n",
       "      <td>SUV</td>\n",
       "      <td>2017</td>\n",
       "      <td>1</td>\n",
       "      <td>610</td>\n",
       "      <td>500</td>\n",
       "    </tr>\n",
       "  </tbody>\n",
       "</table>\n",
       "</div>"
      ],
      "text/plain": [
       "  province  adcode             model bodyType  regYear  regMonth  \\\n",
       "0       上海  310000  3c974920a76ac9c1      SUV     2017         1   \n",
       "1       云南  530000  3c974920a76ac9c1      SUV     2017         1   \n",
       "2      内蒙古  150000  3c974920a76ac9c1      SUV     2017         1   \n",
       "3       北京  110000  3c974920a76ac9c1      SUV     2017         1   \n",
       "4       四川  510000  3c974920a76ac9c1      SUV     2017         1   \n",
       "\n",
       "   salesVolume_year_before  salesVolume  \n",
       "0                      292          305  \n",
       "1                      466          434  \n",
       "2                      257          180  \n",
       "3                      408          468  \n",
       "4                      610          500  "
      ]
     },
     "execution_count": 11,
     "metadata": {},
     "output_type": "execute_result"
    }
   ],
   "source": [
    "cols=['province','adcode','model','bodyType','regYear','regMonth','salesVolume_year_before','salesVolume']\n",
    "train_sales_year_before_data=merge_year_before(train_sales_data_2017,train_sales_data_2016,cols)\n",
    "train_sales_year_before_data.head()"
   ]
  },
  {
   "cell_type": "code",
   "execution_count": 12,
   "metadata": {},
   "outputs": [
    {
     "data": {
      "text/html": [
       "<div>\n",
       "<style scoped>\n",
       "    .dataframe tbody tr th:only-of-type {\n",
       "        vertical-align: middle;\n",
       "    }\n",
       "\n",
       "    .dataframe tbody tr th {\n",
       "        vertical-align: top;\n",
       "    }\n",
       "\n",
       "    .dataframe thead th {\n",
       "        text-align: right;\n",
       "    }\n",
       "</style>\n",
       "<table border=\"1\" class=\"dataframe\">\n",
       "  <thead>\n",
       "    <tr style=\"text-align: right;\">\n",
       "      <th></th>\n",
       "      <th>id</th>\n",
       "      <th>province</th>\n",
       "      <th>adcode</th>\n",
       "      <th>model</th>\n",
       "      <th>bodyType</th>\n",
       "      <th>regYear</th>\n",
       "      <th>regMonth</th>\n",
       "      <th>salesVolume_year_before</th>\n",
       "    </tr>\n",
       "  </thead>\n",
       "  <tbody>\n",
       "    <tr>\n",
       "      <th>0</th>\n",
       "      <td>1</td>\n",
       "      <td>上海</td>\n",
       "      <td>310000</td>\n",
       "      <td>3c974920a76ac9c1</td>\n",
       "      <td>SUV</td>\n",
       "      <td>2018</td>\n",
       "      <td>1</td>\n",
       "      <td>305</td>\n",
       "    </tr>\n",
       "    <tr>\n",
       "      <th>1</th>\n",
       "      <td>2</td>\n",
       "      <td>云南</td>\n",
       "      <td>530000</td>\n",
       "      <td>3c974920a76ac9c1</td>\n",
       "      <td>SUV</td>\n",
       "      <td>2018</td>\n",
       "      <td>1</td>\n",
       "      <td>434</td>\n",
       "    </tr>\n",
       "    <tr>\n",
       "      <th>2</th>\n",
       "      <td>3</td>\n",
       "      <td>内蒙古</td>\n",
       "      <td>150000</td>\n",
       "      <td>3c974920a76ac9c1</td>\n",
       "      <td>SUV</td>\n",
       "      <td>2018</td>\n",
       "      <td>1</td>\n",
       "      <td>180</td>\n",
       "    </tr>\n",
       "    <tr>\n",
       "      <th>3</th>\n",
       "      <td>4</td>\n",
       "      <td>北京</td>\n",
       "      <td>110000</td>\n",
       "      <td>3c974920a76ac9c1</td>\n",
       "      <td>SUV</td>\n",
       "      <td>2018</td>\n",
       "      <td>1</td>\n",
       "      <td>468</td>\n",
       "    </tr>\n",
       "    <tr>\n",
       "      <th>4</th>\n",
       "      <td>5</td>\n",
       "      <td>四川</td>\n",
       "      <td>510000</td>\n",
       "      <td>3c974920a76ac9c1</td>\n",
       "      <td>SUV</td>\n",
       "      <td>2018</td>\n",
       "      <td>1</td>\n",
       "      <td>500</td>\n",
       "    </tr>\n",
       "  </tbody>\n",
       "</table>\n",
       "</div>"
      ],
      "text/plain": [
       "   id province  adcode             model bodyType  regYear  regMonth  \\\n",
       "0   1       上海  310000  3c974920a76ac9c1      SUV     2018         1   \n",
       "1   2       云南  530000  3c974920a76ac9c1      SUV     2018         1   \n",
       "2   3      内蒙古  150000  3c974920a76ac9c1      SUV     2018         1   \n",
       "3   4       北京  110000  3c974920a76ac9c1      SUV     2018         1   \n",
       "4   5       四川  510000  3c974920a76ac9c1      SUV     2018         1   \n",
       "\n",
       "   salesVolume_year_before  \n",
       "0                      305  \n",
       "1                      434  \n",
       "2                      180  \n",
       "3                      468  \n",
       "4                      500  "
      ]
     },
     "execution_count": 12,
     "metadata": {},
     "output_type": "execute_result"
    }
   ],
   "source": [
    "cols=['id','province','adcode','model','bodyType','regYear','regMonth','salesVolume']\n",
    "evaluation_public_year_before_data=merge_year_before(evaluation_public_data,train_sales_data_2017,cols)\n",
    "evaluation_public_year_before_data.columns=['id','province','adcode','model','bodyType','regYear',\\\n",
    "                                            'regMonth','salesVolume_year_before']\n",
    "evaluation_public_year_before_data.head()"
   ]
  },
  {
   "cell_type": "code",
   "execution_count": 13,
   "metadata": {},
   "outputs": [],
   "source": [
    "# 生成 datetime 列\n",
    "def generate_date(df):\n",
    "    f=lambda x:str(x) if x >9 else '0'+str(x)\n",
    "    df['date']=df['regYear'].map(lambda x:str(x))+'-'+df['regMonth'].map(f)\n",
    "    df['date']=pd.to_datetime(df['date'],format='%Y-%m')\n",
    "    return df"
   ]
  },
  {
   "cell_type": "code",
   "execution_count": 14,
   "metadata": {},
   "outputs": [],
   "source": [
    "# 日期偏移 month\n",
    "def month_offset_date(df,n=1):\n",
    "    from pandas.tseries.offsets import DateOffset\n",
    "    df['offdate']=df['date']+DateOffset(months=n)\n",
    "    return df"
   ]
  },
  {
   "cell_type": "code",
   "execution_count": 15,
   "metadata": {},
   "outputs": [],
   "source": [
    "# 日期偏移 year\n",
    "def year_offset_date(df,n=1):\n",
    "    from pandas.tseries.offsets import DateOffset\n",
    "    df['offdate']=df['date']+DateOffset(years=n)\n",
    "    return df"
   ]
  },
  {
   "cell_type": "code",
   "execution_count": 16,
   "metadata": {},
   "outputs": [],
   "source": [
    "#merge data month before\n",
    "def merge_month_before(df,spdf,cols):\n",
    "    '''\n",
    "    input:\n",
    "        df(pd.DataFrame)--left merging data df\n",
    "        spdf(pd.DataFrame)--right merging data df\n",
    "    output:\n",
    "        mergedf(pd.DataFrame)--merged data df\n",
    "    '''\n",
    "    \n",
    "    df=generate_date(df)\n",
    "    spdf=generate_date(spdf)\n",
    "    spdf=month_offset_date(spdf)\n",
    "    mergedf=pd.merge(df,spdf,how='left',left_on=['province','model','date'],right_on=['province','model','offdate'],\\\n",
    "                    suffixes=('','_month_before'))\n",
    "    #cols=['id','province','adcode','model','regYear','regMonth','salesVolume_month_before']\n",
    "    #return mergedf\n",
    "    return mergedf[cols]"
   ]
  },
  {
   "cell_type": "code",
   "execution_count": 17,
   "metadata": {},
   "outputs": [
    {
     "data": {
      "text/html": [
       "<div>\n",
       "<style scoped>\n",
       "    .dataframe tbody tr th:only-of-type {\n",
       "        vertical-align: middle;\n",
       "    }\n",
       "\n",
       "    .dataframe tbody tr th {\n",
       "        vertical-align: top;\n",
       "    }\n",
       "\n",
       "    .dataframe thead th {\n",
       "        text-align: right;\n",
       "    }\n",
       "</style>\n",
       "<table border=\"1\" class=\"dataframe\">\n",
       "  <thead>\n",
       "    <tr style=\"text-align: right;\">\n",
       "      <th></th>\n",
       "      <th>province</th>\n",
       "      <th>adcode</th>\n",
       "      <th>model</th>\n",
       "      <th>bodyType</th>\n",
       "      <th>regYear</th>\n",
       "      <th>regMonth</th>\n",
       "      <th>salesVolume_month_before</th>\n",
       "    </tr>\n",
       "  </thead>\n",
       "  <tbody>\n",
       "    <tr>\n",
       "      <th>0</th>\n",
       "      <td>上海</td>\n",
       "      <td>310000</td>\n",
       "      <td>3c974920a76ac9c1</td>\n",
       "      <td>SUV</td>\n",
       "      <td>2017</td>\n",
       "      <td>1</td>\n",
       "      <td>374</td>\n",
       "    </tr>\n",
       "    <tr>\n",
       "      <th>1</th>\n",
       "      <td>云南</td>\n",
       "      <td>530000</td>\n",
       "      <td>3c974920a76ac9c1</td>\n",
       "      <td>SUV</td>\n",
       "      <td>2017</td>\n",
       "      <td>1</td>\n",
       "      <td>456</td>\n",
       "    </tr>\n",
       "  </tbody>\n",
       "</table>\n",
       "</div>"
      ],
      "text/plain": [
       "  province  adcode             model bodyType  regYear  regMonth  \\\n",
       "0       上海  310000  3c974920a76ac9c1      SUV     2017         1   \n",
       "1       云南  530000  3c974920a76ac9c1      SUV     2017         1   \n",
       "\n",
       "   salesVolume_month_before  \n",
       "0                       374  \n",
       "1                       456  "
      ]
     },
     "execution_count": 17,
     "metadata": {},
     "output_type": "execute_result"
    }
   ],
   "source": [
    "cols=['province','adcode','model','bodyType','regYear','regMonth','salesVolume_month_before']\n",
    "train_sales_month_before=merge_month_before(train_sales_data_2017,train_sales_data,cols)\n",
    "train_sales_month_before.head(2)"
   ]
  },
  {
   "cell_type": "code",
   "execution_count": 18,
   "metadata": {},
   "outputs": [
    {
     "name": "stdout",
     "output_type": "stream",
     "text": [
      "<class 'pandas.core.frame.DataFrame'>\n",
      "Int64Index: 15840 entries, 0 to 15839\n",
      "Data columns (total 7 columns):\n",
      "province                    15840 non-null object\n",
      "adcode                      15840 non-null int64\n",
      "model                       15840 non-null object\n",
      "bodyType                    15840 non-null object\n",
      "regYear                     15840 non-null int64\n",
      "regMonth                    15840 non-null int64\n",
      "salesVolume_month_before    15840 non-null int64\n",
      "dtypes: int64(4), object(3)\n",
      "memory usage: 990.0+ KB\n"
     ]
    }
   ],
   "source": [
    "train_sales_month_before.info()"
   ]
  },
  {
   "cell_type": "code",
   "execution_count": 19,
   "metadata": {},
   "outputs": [
    {
     "data": {
      "text/html": [
       "<div>\n",
       "<style scoped>\n",
       "    .dataframe tbody tr th:only-of-type {\n",
       "        vertical-align: middle;\n",
       "    }\n",
       "\n",
       "    .dataframe tbody tr th {\n",
       "        vertical-align: top;\n",
       "    }\n",
       "\n",
       "    .dataframe thead th {\n",
       "        text-align: right;\n",
       "    }\n",
       "</style>\n",
       "<table border=\"1\" class=\"dataframe\">\n",
       "  <thead>\n",
       "    <tr style=\"text-align: right;\">\n",
       "      <th></th>\n",
       "      <th>province</th>\n",
       "      <th>adcode</th>\n",
       "      <th>model</th>\n",
       "      <th>bodyType</th>\n",
       "      <th>regYear</th>\n",
       "      <th>regMonth</th>\n",
       "      <th>salesVolume_month_before</th>\n",
       "      <th>salesVolume_year_before</th>\n",
       "      <th>salesVolume</th>\n",
       "    </tr>\n",
       "  </thead>\n",
       "  <tbody>\n",
       "    <tr>\n",
       "      <th>0</th>\n",
       "      <td>上海</td>\n",
       "      <td>310000</td>\n",
       "      <td>3c974920a76ac9c1</td>\n",
       "      <td>SUV</td>\n",
       "      <td>2017</td>\n",
       "      <td>1</td>\n",
       "      <td>374</td>\n",
       "      <td>292</td>\n",
       "      <td>305</td>\n",
       "    </tr>\n",
       "    <tr>\n",
       "      <th>1</th>\n",
       "      <td>云南</td>\n",
       "      <td>530000</td>\n",
       "      <td>3c974920a76ac9c1</td>\n",
       "      <td>SUV</td>\n",
       "      <td>2017</td>\n",
       "      <td>1</td>\n",
       "      <td>456</td>\n",
       "      <td>466</td>\n",
       "      <td>434</td>\n",
       "    </tr>\n",
       "    <tr>\n",
       "      <th>2</th>\n",
       "      <td>内蒙古</td>\n",
       "      <td>150000</td>\n",
       "      <td>3c974920a76ac9c1</td>\n",
       "      <td>SUV</td>\n",
       "      <td>2017</td>\n",
       "      <td>1</td>\n",
       "      <td>219</td>\n",
       "      <td>257</td>\n",
       "      <td>180</td>\n",
       "    </tr>\n",
       "    <tr>\n",
       "      <th>3</th>\n",
       "      <td>北京</td>\n",
       "      <td>110000</td>\n",
       "      <td>3c974920a76ac9c1</td>\n",
       "      <td>SUV</td>\n",
       "      <td>2017</td>\n",
       "      <td>1</td>\n",
       "      <td>563</td>\n",
       "      <td>408</td>\n",
       "      <td>468</td>\n",
       "    </tr>\n",
       "    <tr>\n",
       "      <th>4</th>\n",
       "      <td>四川</td>\n",
       "      <td>510000</td>\n",
       "      <td>3c974920a76ac9c1</td>\n",
       "      <td>SUV</td>\n",
       "      <td>2017</td>\n",
       "      <td>1</td>\n",
       "      <td>570</td>\n",
       "      <td>610</td>\n",
       "      <td>500</td>\n",
       "    </tr>\n",
       "  </tbody>\n",
       "</table>\n",
       "</div>"
      ],
      "text/plain": [
       "  province  adcode             model bodyType  regYear  regMonth  \\\n",
       "0       上海  310000  3c974920a76ac9c1      SUV     2017         1   \n",
       "1       云南  530000  3c974920a76ac9c1      SUV     2017         1   \n",
       "2      内蒙古  150000  3c974920a76ac9c1      SUV     2017         1   \n",
       "3       北京  110000  3c974920a76ac9c1      SUV     2017         1   \n",
       "4       四川  510000  3c974920a76ac9c1      SUV     2017         1   \n",
       "\n",
       "   salesVolume_month_before  salesVolume_year_before  salesVolume  \n",
       "0                       374                      292          305  \n",
       "1                       456                      466          434  \n",
       "2                       219                      257          180  \n",
       "3                       563                      408          468  \n",
       "4                       570                      610          500  "
      ]
     },
     "execution_count": 19,
     "metadata": {},
     "output_type": "execute_result"
    }
   ],
   "source": [
    "train_data=pd.merge(train_sales_month_before,train_sales_year_before_data,\\\n",
    "                    on=['province','adcode','model','bodyType','regYear','regMonth'],\\\n",
    "                   how='left',suffixes=('','_right'))\n",
    "train_data.head()"
   ]
  },
  {
   "cell_type": "code",
   "execution_count": 20,
   "metadata": {},
   "outputs": [
    {
     "name": "stdout",
     "output_type": "stream",
     "text": [
      "<class 'pandas.core.frame.DataFrame'>\n",
      "Int64Index: 15840 entries, 0 to 15839\n",
      "Data columns (total 9 columns):\n",
      "province                    15840 non-null object\n",
      "adcode                      15840 non-null int64\n",
      "model                       15840 non-null object\n",
      "bodyType                    15840 non-null object\n",
      "regYear                     15840 non-null int64\n",
      "regMonth                    15840 non-null int64\n",
      "salesVolume_month_before    15840 non-null int64\n",
      "salesVolume_year_before     15840 non-null int64\n",
      "salesVolume                 15840 non-null int64\n",
      "dtypes: int64(6), object(3)\n",
      "memory usage: 1.2+ MB\n"
     ]
    }
   ],
   "source": [
    "train_data.info()"
   ]
  },
  {
   "cell_type": "code",
   "execution_count": 21,
   "metadata": {},
   "outputs": [],
   "source": [
    "from sklearn.preprocessing import OneHotEncoder\n",
    "from sklearn.utils import shuffle\n",
    "ohe=OneHotEncoder()\n",
    "shuffle(train_data)\n",
    "train_cate_ohe=ohe.fit_transform(train_data[['province','model','bodyType']])\n",
    "train_x=np.concatenate((train_cate_ohe.toarray(),train_data[['regMonth',\\\n",
    "                        'salesVolume_month_before','salesVolume_year_before']].values),\n",
    "                 axis=1)\n",
    "train_y=train_data['salesVolume'].values.ravel()"
   ]
  },
  {
   "cell_type": "code",
   "execution_count": 42,
   "metadata": {},
   "outputs": [],
   "source": [
    "# 数据保存\n",
    "np.savez('data/month_year_train.npz',x=train_x,y=train_y)"
   ]
  },
  {
   "cell_type": "code",
   "execution_count": 25,
   "metadata": {},
   "outputs": [
    {
     "data": {
      "text/plain": [
       "0.8929763913764569"
      ]
     },
     "execution_count": 25,
     "metadata": {},
     "output_type": "execute_result"
    }
   ],
   "source": [
    "reg.score(eva_x,eva_y)"
   ]
  },
  {
   "cell_type": "code",
   "execution_count": 26,
   "metadata": {},
   "outputs": [
    {
     "data": {
      "text/plain": [
       "0.563783756693436"
      ]
     },
     "execution_count": 26,
     "metadata": {},
     "output_type": "execute_result"
    }
   ],
   "source": [
    "eva_y_pred=reg.predict(eva_x)\n",
    "mean_metrics(eva_y_pred,eva_y)"
   ]
  },
  {
   "cell_type": "code",
   "execution_count": 27,
   "metadata": {},
   "outputs": [
    {
     "data": {
      "text/plain": [
       "0.9059903547679712"
      ]
     },
     "execution_count": 27,
     "metadata": {},
     "output_type": "execute_result"
    }
   ],
   "source": [
    "# Linear_model L2 Ridge\n",
    "ridge=linear_model.Ridge(alpha=1.0)\n",
    "ridge.fit(x,y)\n",
    "ridge.score(x,y)"
   ]
  },
  {
   "cell_type": "code",
   "execution_count": 28,
   "metadata": {},
   "outputs": [
    {
     "data": {
      "text/plain": [
       "0.8929630599610981"
      ]
     },
     "execution_count": 28,
     "metadata": {},
     "output_type": "execute_result"
    }
   ],
   "source": [
    "ridge.score(eva_x,eva_y)"
   ]
  },
  {
   "cell_type": "code",
   "execution_count": 186,
   "metadata": {},
   "outputs": [
    {
     "data": {
      "text/plain": [
       "-0.086177011335687"
      ]
     },
     "execution_count": 186,
     "metadata": {},
     "output_type": "execute_result"
    }
   ],
   "source": [
    "#SVR 奇差无比\n",
    "from sklearn.svm import SVR\n",
    "svm_reg=SVR()\n",
    "svm_reg.fit(x,y)\n",
    "svm_reg.score(x,y)"
   ]
  },
  {
   "cell_type": "code",
   "execution_count": 29,
   "metadata": {},
   "outputs": [
    {
     "data": {
      "text/plain": [
       "array([0.92659167, 0.92462327, 0.92398945, 0.93312354, 0.93603297])"
      ]
     },
     "execution_count": 29,
     "metadata": {},
     "output_type": "execute_result"
    }
   ],
   "source": [
    "#RF 随机森林\n",
    "from sklearn.ensemble import RandomForestRegressor\n",
    "from sklearn.model_selection import cross_val_score\n",
    "rf_reg=RandomForestRegressor()\n",
    "rf_reg.fit(x,y)\n",
    "cross_val_score(rf_reg,x,y,cv=5)"
   ]
  },
  {
   "cell_type": "code",
   "execution_count": 35,
   "metadata": {},
   "outputs": [
    {
     "data": {
      "text/plain": [
       "RandomForestRegressor(bootstrap=True, criterion='mse', max_depth=None,\n",
       "           max_features='auto', max_leaf_nodes=None,\n",
       "           min_impurity_decrease=0.0, min_impurity_split=None,\n",
       "           min_samples_leaf=1, min_samples_split=2,\n",
       "           min_weight_fraction_leaf=0.0, n_estimators=10, n_jobs=None,\n",
       "           oob_score=False, random_state=None, verbose=0, warm_start=False)"
      ]
     },
     "execution_count": 35,
     "metadata": {},
     "output_type": "execute_result"
    }
   ],
   "source": [
    "rf_reg"
   ]
  },
  {
   "cell_type": "code",
   "execution_count": 30,
   "metadata": {},
   "outputs": [
    {
     "data": {
      "text/plain": [
       "0.9374506067146188"
      ]
     },
     "execution_count": 30,
     "metadata": {},
     "output_type": "execute_result"
    }
   ],
   "source": [
    "rf_reg.score(eva_x,eva_y)"
   ]
  },
  {
   "cell_type": "code",
   "execution_count": 48,
   "metadata": {},
   "outputs": [],
   "source": [
    "# 计算 平均 metric\n",
    "def mean_metrics(y_pred,y):\n",
    "    n_samples=y_pred.shape[0]\n",
    "    y_mean=np.mean(y)\n",
    "    return (1-((((y-y_pred)**2).sum()/n_samples)**0.5)/y_mean)"
   ]
  },
  {
   "cell_type": "markdown",
   "metadata": {},
   "source": [
    "#处理test数据"
   ]
  },
  {
   "cell_type": "code",
   "execution_count": 33,
   "metadata": {},
   "outputs": [
    {
     "data": {
      "text/plain": [
       "0.6665170851708622"
      ]
     },
     "execution_count": 33,
     "metadata": {},
     "output_type": "execute_result"
    }
   ],
   "source": [
    "eva_y_pred=rf_reg.predict(eva_x)\n",
    "mean_metrics(eva_y_pred,eva_y)"
   ]
  },
  {
   "cell_type": "code",
   "execution_count": 34,
   "metadata": {},
   "outputs": [
    {
     "data": {
      "text/plain": [
       "0.8617453632901322"
      ]
     },
     "execution_count": 34,
     "metadata": {},
     "output_type": "execute_result"
    }
   ],
   "source": [
    "y_pred=rf_reg.predict(x)\n",
    "mean_metrics(y_pred,y)"
   ]
  },
  {
   "cell_type": "code",
   "execution_count": 1,
   "metadata": {},
   "outputs": [],
   "source": [
    "import numpy as np\n",
    "import pandas as pd\n",
    "df = pd.DataFrame( {'a':['A','A','B','B','B','C'], 'b':[1,2,5,5,4,6]})"
   ]
  },
  {
   "cell_type": "code",
   "execution_count": 15,
   "metadata": {},
   "outputs": [
    {
     "data": {
      "text/html": [
       "<div>\n",
       "<style scoped>\n",
       "    .dataframe tbody tr th:only-of-type {\n",
       "        vertical-align: middle;\n",
       "    }\n",
       "\n",
       "    .dataframe tbody tr th {\n",
       "        vertical-align: top;\n",
       "    }\n",
       "\n",
       "    .dataframe thead th {\n",
       "        text-align: right;\n",
       "    }\n",
       "</style>\n",
       "<table border=\"1\" class=\"dataframe\">\n",
       "  <thead>\n",
       "    <tr style=\"text-align: right;\">\n",
       "      <th></th>\n",
       "      <th>a</th>\n",
       "      <th>list</th>\n",
       "      <th>mean</th>\n",
       "    </tr>\n",
       "  </thead>\n",
       "  <tbody>\n",
       "    <tr>\n",
       "      <th>0</th>\n",
       "      <td>A</td>\n",
       "      <td>[1, 2]</td>\n",
       "      <td>1.500000</td>\n",
       "    </tr>\n",
       "    <tr>\n",
       "      <th>1</th>\n",
       "      <td>B</td>\n",
       "      <td>[5, 5, 4]</td>\n",
       "      <td>4.666667</td>\n",
       "    </tr>\n",
       "    <tr>\n",
       "      <th>2</th>\n",
       "      <td>C</td>\n",
       "      <td>[6]</td>\n",
       "      <td>6.000000</td>\n",
       "    </tr>\n",
       "  </tbody>\n",
       "</table>\n",
       "</div>"
      ],
      "text/plain": [
       "   a       list      mean\n",
       "0  A     [1, 2]  1.500000\n",
       "1  B  [5, 5, 4]  4.666667\n",
       "2  C        [6]  6.000000"
      ]
     },
     "execution_count": 15,
     "metadata": {},
     "output_type": "execute_result"
    }
   ],
   "source": [
    "df.groupby('a')['b'].agg([list,'mean']).reset_index()"
   ]
  },
  {
   "cell_type": "code",
   "execution_count": 14,
   "metadata": {},
   "outputs": [
    {
     "data": {
      "text/html": [
       "<div>\n",
       "<style scoped>\n",
       "    .dataframe tbody tr th:only-of-type {\n",
       "        vertical-align: middle;\n",
       "    }\n",
       "\n",
       "    .dataframe tbody tr th {\n",
       "        vertical-align: top;\n",
       "    }\n",
       "\n",
       "    .dataframe thead th {\n",
       "        text-align: right;\n",
       "    }\n",
       "</style>\n",
       "<table border=\"1\" class=\"dataframe\">\n",
       "  <thead>\n",
       "    <tr style=\"text-align: right;\">\n",
       "      <th></th>\n",
       "      <th>a</th>\n",
       "      <th>new</th>\n",
       "    </tr>\n",
       "  </thead>\n",
       "  <tbody>\n",
       "    <tr>\n",
       "      <th>0</th>\n",
       "      <td>A</td>\n",
       "      <td>[1, 2]</td>\n",
       "    </tr>\n",
       "    <tr>\n",
       "      <th>1</th>\n",
       "      <td>B</td>\n",
       "      <td>[5, 5, 4]</td>\n",
       "    </tr>\n",
       "    <tr>\n",
       "      <th>2</th>\n",
       "      <td>C</td>\n",
       "      <td>[6]</td>\n",
       "    </tr>\n",
       "  </tbody>\n",
       "</table>\n",
       "</div>"
      ],
      "text/plain": [
       "   a        new\n",
       "0  A     [1, 2]\n",
       "1  B  [5, 5, 4]\n",
       "2  C        [6]"
      ]
     },
     "execution_count": 14,
     "metadata": {},
     "output_type": "execute_result"
    }
   ],
   "source": [
    " df.groupby('a')['b'].apply(list).reset_index(name='new')"
   ]
  }
 ],
 "metadata": {
  "kernelspec": {
   "display_name": "Python 3",
   "language": "python",
   "name": "python3"
  },
  "language_info": {
   "codemirror_mode": {
    "name": "ipython",
    "version": 3
   },
   "file_extension": ".py",
   "mimetype": "text/x-python",
   "name": "python",
   "nbconvert_exporter": "python",
   "pygments_lexer": "ipython3",
   "version": "3.7.1"
  }
 },
 "nbformat": 4,
 "nbformat_minor": 2
}
