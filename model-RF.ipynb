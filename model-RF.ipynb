{
 "cells": [
  {
   "cell_type": "code",
   "execution_count": 2,
   "metadata": {},
   "outputs": [],
   "source": [
    "import numpy as np\n",
    "import pandas as pd\n",
    "import warnings\n",
    "\n",
    "warnings.filterwarnings('ignore')"
   ]
  },
  {
   "cell_type": "code",
   "execution_count": 3,
   "metadata": {},
   "outputs": [
    {
     "name": "stdout",
     "output_type": "stream",
     "text": [
      " 驱动器 C 中的卷没有标签。\n",
      " 卷的序列号是 0006-FDC5\n",
      "\n",
      " C:\\Users\\dell\\dockerdata\\乘用车细分市场销量预测\\data 的目录\n",
      "\n",
      "2019/09/26  10:55    <DIR>          .\n",
      "2019/09/26  10:55    <DIR>          ..\n",
      "2019/09/11  13:30           237,991 evaluation_public.csv\n",
      "2019/09/19  14:39            51,762 mean_predicting_data.csv\n",
      "2019/09/26  10:54        11,405,250 month_year_train.npz\n",
      "2019/09/25  17:53            51,255 rf_prediction_default.csv\n",
      "2019/09/11  13:31            51,712 submit_example.csv\n",
      "2019/09/20  16:14            51,711 svr_predicting_sales.csv\n",
      "2019/08/23  17:36           369,997 Train.zip\n",
      "2019/09/12  15:33         1,545,277 train_sales_data.csv\n",
      "2019/09/12  15:33         1,399,503 train_search_data.csv\n",
      "2019/09/12  15:33            47,975 train_user_reply_data.csv\n",
      "              10 个文件     15,212,433 字节\n",
      "               2 个目录 47,252,733,952 可用字节\n"
     ]
    }
   ],
   "source": [
    "!dir data"
   ]
  },
  {
   "cell_type": "code",
   "execution_count": 9,
   "metadata": {},
   "outputs": [],
   "source": [
    "# 计算 平均 metric\n",
    "def mean_metrics(y_pred,y):\n",
    "    n_samples=y_pred.shape[0]\n",
    "    y_mean=np.mean(y)\n",
    "    return (1-((((y-y_pred)**2).sum()/n_samples)**0.5)/y_mean)"
   ]
  },
  {
   "cell_type": "code",
   "execution_count": 4,
   "metadata": {},
   "outputs": [
    {
     "data": {
      "text/plain": [
       "['x', 'y']"
      ]
     },
     "execution_count": 4,
     "metadata": {},
     "output_type": "execute_result"
    }
   ],
   "source": [
    "#data importing\n",
    "arch=np.load('data/month_year_train.npz')\n",
    "list(arch.keys())"
   ]
  },
  {
   "cell_type": "code",
   "execution_count": 5,
   "metadata": {},
   "outputs": [],
   "source": [
    "from sklearn.model_selection import train_test_split\n",
    "train_x=arch['x']\n",
    "train_y=arch['y']\n",
    "x,eva_x,y,eva_y=train_test_split(train_x,train_y,test_size=0.3,random_state=42)"
   ]
  },
  {
   "cell_type": "code",
   "execution_count": 7,
   "metadata": {},
   "outputs": [
    {
     "data": {
      "text/plain": [
       "array([0.91281411, 0.91935941, 0.94683877, 0.94726779, 0.92824807])"
      ]
     },
     "execution_count": 7,
     "metadata": {},
     "output_type": "execute_result"
    }
   ],
   "source": [
    "#RF 随机森林\n",
    "from sklearn.ensemble import RandomForestRegressor\n",
    "from sklearn.model_selection import cross_val_score\n",
    "rf_reg=RandomForestRegressor()\n",
    "rf_reg.fit(x,y)\n",
    "cross_val_score(rf_reg,x,y,cv=5)"
   ]
  },
  {
   "cell_type": "code",
   "execution_count": 10,
   "metadata": {},
   "outputs": [
    {
     "data": {
      "text/plain": [
       "0.678635850928935"
      ]
     },
     "execution_count": 10,
     "metadata": {},
     "output_type": "execute_result"
    }
   ],
   "source": [
    "eva_pred_y=rf_reg.predict(eva_x)\n",
    "mean_metrics(eva_pred_y,eva_y)"
   ]
  },
  {
   "cell_type": "code",
   "execution_count": 11,
   "metadata": {},
   "outputs": [],
   "source": [
    "from joblib import dump,load\n",
    "dump(rf_reg,'joblib/rf_reg_default.joblib')"
   ]
  }
 ],
 "metadata": {
  "kernelspec": {
   "display_name": "Python 3",
   "language": "python",
   "name": "python3"
  },
  "language_info": {
   "codemirror_mode": {
    "name": "ipython",
    "version": 3
   },
   "file_extension": ".py",
   "mimetype": "text/x-python",
   "name": "python",
   "nbconvert_exporter": "python",
   "pygments_lexer": "ipython3",
   "version": "3.7.1"
  }
 },
 "nbformat": 4,
 "nbformat_minor": 2
}
