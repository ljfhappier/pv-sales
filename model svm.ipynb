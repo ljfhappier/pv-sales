{
 "cells": [
  {
   "cell_type": "code",
   "execution_count": 1,
   "metadata": {},
   "outputs": [
    {
     "name": "stdout",
     "output_type": "stream",
     "text": [
      " 驱动器 C 中的卷没有标签。\n",
      " 卷的序列号是 0006-FDC5\n",
      "\n",
      " C:\\Users\\dell\\dockerdata\\乘用车细分市场销量预测\\data 的目录\n",
      "\n",
      "2019/09/19  14:39    <DIR>          .\n",
      "2019/09/19  14:39    <DIR>          ..\n",
      "2019/09/11  13:30           237,991 evaluation_public.csv\n",
      "2019/09/19  14:39            51,762 mean_predicting_data.csv\n",
      "2019/09/11  13:31            51,712 submit_example.csv\n",
      "2019/08/23  17:36           369,997 Train.zip\n",
      "2019/09/12  15:33         1,545,277 train_sales_data.csv\n",
      "2019/09/12  15:33         1,399,503 train_search_data.csv\n",
      "2019/09/12  15:33            47,975 train_user_reply_data.csv\n",
      "               7 个文件      3,704,217 字节\n",
      "               2 个目录 49,085,816,832 可用字节\n"
     ]
    }
   ],
   "source": [
    "!dir data"
   ]
  },
  {
   "cell_type": "code",
   "execution_count": 2,
   "metadata": {},
   "outputs": [],
   "source": [
    "import pandas as pd\n",
    "import numpy as np"
   ]
  },
  {
   "cell_type": "code",
   "execution_count": 53,
   "metadata": {},
   "outputs": [],
   "source": [
    "train_data=pd.read_csv('data/train_sales_data.csv')"
   ]
  },
  {
   "cell_type": "code",
   "execution_count": 54,
   "metadata": {},
   "outputs": [
    {
     "data": {
      "text/html": [
       "<div>\n",
       "<style scoped>\n",
       "    .dataframe tbody tr th:only-of-type {\n",
       "        vertical-align: middle;\n",
       "    }\n",
       "\n",
       "    .dataframe tbody tr th {\n",
       "        vertical-align: top;\n",
       "    }\n",
       "\n",
       "    .dataframe thead th {\n",
       "        text-align: right;\n",
       "    }\n",
       "</style>\n",
       "<table border=\"1\" class=\"dataframe\">\n",
       "  <thead>\n",
       "    <tr style=\"text-align: right;\">\n",
       "      <th></th>\n",
       "      <th>province</th>\n",
       "      <th>adcode</th>\n",
       "      <th>model</th>\n",
       "      <th>bodyType</th>\n",
       "      <th>regYear</th>\n",
       "      <th>regMonth</th>\n",
       "      <th>salesVolume</th>\n",
       "    </tr>\n",
       "  </thead>\n",
       "  <tbody>\n",
       "    <tr>\n",
       "      <th>0</th>\n",
       "      <td>上海</td>\n",
       "      <td>310000</td>\n",
       "      <td>3c974920a76ac9c1</td>\n",
       "      <td>SUV</td>\n",
       "      <td>2016</td>\n",
       "      <td>1</td>\n",
       "      <td>292</td>\n",
       "    </tr>\n",
       "    <tr>\n",
       "      <th>1</th>\n",
       "      <td>云南</td>\n",
       "      <td>530000</td>\n",
       "      <td>3c974920a76ac9c1</td>\n",
       "      <td>SUV</td>\n",
       "      <td>2016</td>\n",
       "      <td>1</td>\n",
       "      <td>466</td>\n",
       "    </tr>\n",
       "    <tr>\n",
       "      <th>2</th>\n",
       "      <td>内蒙古</td>\n",
       "      <td>150000</td>\n",
       "      <td>3c974920a76ac9c1</td>\n",
       "      <td>SUV</td>\n",
       "      <td>2016</td>\n",
       "      <td>1</td>\n",
       "      <td>257</td>\n",
       "    </tr>\n",
       "    <tr>\n",
       "      <th>3</th>\n",
       "      <td>北京</td>\n",
       "      <td>110000</td>\n",
       "      <td>3c974920a76ac9c1</td>\n",
       "      <td>SUV</td>\n",
       "      <td>2016</td>\n",
       "      <td>1</td>\n",
       "      <td>408</td>\n",
       "    </tr>\n",
       "    <tr>\n",
       "      <th>4</th>\n",
       "      <td>四川</td>\n",
       "      <td>510000</td>\n",
       "      <td>3c974920a76ac9c1</td>\n",
       "      <td>SUV</td>\n",
       "      <td>2016</td>\n",
       "      <td>1</td>\n",
       "      <td>610</td>\n",
       "    </tr>\n",
       "  </tbody>\n",
       "</table>\n",
       "</div>"
      ],
      "text/plain": [
       "  province  adcode             model bodyType  regYear  regMonth  salesVolume\n",
       "0       上海  310000  3c974920a76ac9c1      SUV     2016         1          292\n",
       "1       云南  530000  3c974920a76ac9c1      SUV     2016         1          466\n",
       "2      内蒙古  150000  3c974920a76ac9c1      SUV     2016         1          257\n",
       "3       北京  110000  3c974920a76ac9c1      SUV     2016         1          408\n",
       "4       四川  510000  3c974920a76ac9c1      SUV     2016         1          610"
      ]
     },
     "execution_count": 54,
     "metadata": {},
     "output_type": "execute_result"
    }
   ],
   "source": [
    "train_data.head()"
   ]
  },
  {
   "cell_type": "code",
   "execution_count": 72,
   "metadata": {},
   "outputs": [],
   "source": [
    "from sklearn.preprocessing import OrdinalEncoder,OneHotEncoder\n",
    "train_x=train_data[['province','model','bodyType']].values\n",
    "#test_x"
   ]
  },
  {
   "cell_type": "code",
   "execution_count": 73,
   "metadata": {},
   "outputs": [
    {
     "name": "stdout",
     "output_type": "stream",
     "text": [
      "<class 'pandas.core.frame.DataFrame'>\n",
      "Int64Index: 60 entries, 0 to 1298\n",
      "Data columns (total 2 columns):\n",
      "model       60 non-null object\n",
      "bodyType    60 non-null object\n",
      "dtypes: object(2)\n",
      "memory usage: 1.4+ KB\n"
     ]
    }
   ],
   "source": [
    "model_body=train_data[['model','bodyType']].drop_duplicates()\n",
    "model_body.info()"
   ]
  },
  {
   "cell_type": "code",
   "execution_count": 74,
   "metadata": {},
   "outputs": [],
   "source": [
    "odec=OneHotEncoder()\n",
    "train_x_encode=odec.fit_transform(train_x)"
   ]
  },
  {
   "cell_type": "code",
   "execution_count": 75,
   "metadata": {},
   "outputs": [
    {
     "data": {
      "text/plain": [
       "<1x90 sparse matrix of type '<class 'numpy.float64'>'\n",
       "\twith 4 stored elements in Compressed Sparse Row format>"
      ]
     },
     "execution_count": 75,
     "metadata": {},
     "output_type": "execute_result"
    }
   ],
   "source": [
    "test_x_encode[1]"
   ]
  },
  {
   "cell_type": "code",
   "execution_count": 76,
   "metadata": {},
   "outputs": [],
   "source": [
    "x=np.concatenate((train_x_encode.toarray(),train_data[['regMonth']].values),axis=1)\n",
    "y=train_data['salesVolume'].ravel()"
   ]
  },
  {
   "cell_type": "code",
   "execution_count": 77,
   "metadata": {},
   "outputs": [
    {
     "data": {
      "text/plain": [
       "((31680, 87), (31680,))"
      ]
     },
     "execution_count": 77,
     "metadata": {},
     "output_type": "execute_result"
    }
   ],
   "source": [
    "x.shape,y.shape"
   ]
  },
  {
   "cell_type": "code",
   "execution_count": 78,
   "metadata": {},
   "outputs": [],
   "source": [
    "from sklearn.model_selection import train_test_split\n",
    "train_x,test_x,train_y,test_y=train_test_split(x,y,test_size=0.3,random_state=42)"
   ]
  },
  {
   "cell_type": "code",
   "execution_count": 79,
   "metadata": {},
   "outputs": [
    {
     "name": "stderr",
     "output_type": "stream",
     "text": [
      "D:\\Anaconda3\\lib\\site-packages\\sklearn\\svm\\base.py:196: FutureWarning: The default value of gamma will change from 'auto' to 'scale' in version 0.22 to account better for unscaled features. Set gamma explicitly to 'auto' or 'scale' to avoid this warning.\n",
      "  \"avoid this warning.\", FutureWarning)\n"
     ]
    },
    {
     "data": {
      "text/plain": [
       "-0.06938278299641953"
      ]
     },
     "execution_count": 79,
     "metadata": {},
     "output_type": "execute_result"
    }
   ],
   "source": [
    "from sklearn.svm import SVR\n",
    "svr=SVR()\n",
    "svr.fit(train_x,train_y)\n",
    "svr.score(train_x,train_y)"
   ]
  },
  {
   "cell_type": "code",
   "execution_count": 23,
   "metadata": {},
   "outputs": [
    {
     "data": {
      "text/plain": [
       "-0.08266312130529685"
      ]
     },
     "execution_count": 23,
     "metadata": {},
     "output_type": "execute_result"
    }
   ],
   "source": [
    "svr.score(test_x,test_y)"
   ]
  },
  {
   "cell_type": "code",
   "execution_count": 30,
   "metadata": {},
   "outputs": [
    {
     "data": {
      "text/html": [
       "<div>\n",
       "<style scoped>\n",
       "    .dataframe tbody tr th:only-of-type {\n",
       "        vertical-align: middle;\n",
       "    }\n",
       "\n",
       "    .dataframe tbody tr th {\n",
       "        vertical-align: top;\n",
       "    }\n",
       "\n",
       "    .dataframe thead th {\n",
       "        text-align: right;\n",
       "    }\n",
       "</style>\n",
       "<table border=\"1\" class=\"dataframe\">\n",
       "  <thead>\n",
       "    <tr style=\"text-align: right;\">\n",
       "      <th></th>\n",
       "      <th>id</th>\n",
       "      <th>province</th>\n",
       "      <th>adcode</th>\n",
       "      <th>model</th>\n",
       "      <th>regYear</th>\n",
       "      <th>regMonth</th>\n",
       "      <th>forecastVolum</th>\n",
       "      <th>bodyType</th>\n",
       "    </tr>\n",
       "  </thead>\n",
       "  <tbody>\n",
       "    <tr>\n",
       "      <th>0</th>\n",
       "      <td>1</td>\n",
       "      <td>上海</td>\n",
       "      <td>310000</td>\n",
       "      <td>3c974920a76ac9c1</td>\n",
       "      <td>2018</td>\n",
       "      <td>1</td>\n",
       "      <td>NaN</td>\n",
       "      <td>SUV</td>\n",
       "    </tr>\n",
       "    <tr>\n",
       "      <th>1</th>\n",
       "      <td>2</td>\n",
       "      <td>云南</td>\n",
       "      <td>530000</td>\n",
       "      <td>3c974920a76ac9c1</td>\n",
       "      <td>2018</td>\n",
       "      <td>1</td>\n",
       "      <td>NaN</td>\n",
       "      <td>SUV</td>\n",
       "    </tr>\n",
       "  </tbody>\n",
       "</table>\n",
       "</div>"
      ],
      "text/plain": [
       "   id province  adcode             model  regYear  regMonth  forecastVolum  \\\n",
       "0   1       上海  310000  3c974920a76ac9c1     2018         1            NaN   \n",
       "1   2       云南  530000  3c974920a76ac9c1     2018         1            NaN   \n",
       "\n",
       "  bodyType  \n",
       "0      SUV  \n",
       "1      SUV  "
      ]
     },
     "execution_count": 30,
     "metadata": {},
     "output_type": "execute_result"
    }
   ],
   "source": [
    "test_data=pd.read_csv('data/evaluation_public.csv')\n",
    "test_data=pd.merge(test_data,model_body,on='model',how='left')\n",
    "test_data.head(2)"
   ]
  },
  {
   "cell_type": "code",
   "execution_count": 34,
   "metadata": {},
   "outputs": [],
   "source": [
    "test_x_cate=test_data[['province','model','bodyType']].values\n",
    "test_x_encode=odec.transform(test_x_cate)\n",
    "test_x=np.concatenate((test_x_encode,test_data[['regMonth']].values),axis=1)"
   ]
  },
  {
   "cell_type": "code",
   "execution_count": 40,
   "metadata": {},
   "outputs": [],
   "source": [
    "test_y_pred=svr.predict(test_x)"
   ]
  },
  {
   "cell_type": "code",
   "execution_count": 50,
   "metadata": {},
   "outputs": [],
   "source": [
    "test_data['forecastVolum']=test_y_pred\n",
    "test_data['forecastVolum']=test_data['forecastVolum'].map(lambda x:int(x))"
   ]
  },
  {
   "cell_type": "code",
   "execution_count": 51,
   "metadata": {},
   "outputs": [
    {
     "data": {
      "text/html": [
       "<div>\n",
       "<style scoped>\n",
       "    .dataframe tbody tr th:only-of-type {\n",
       "        vertical-align: middle;\n",
       "    }\n",
       "\n",
       "    .dataframe tbody tr th {\n",
       "        vertical-align: top;\n",
       "    }\n",
       "\n",
       "    .dataframe thead th {\n",
       "        text-align: right;\n",
       "    }\n",
       "</style>\n",
       "<table border=\"1\" class=\"dataframe\">\n",
       "  <thead>\n",
       "    <tr style=\"text-align: right;\">\n",
       "      <th></th>\n",
       "      <th>id</th>\n",
       "      <th>province</th>\n",
       "      <th>adcode</th>\n",
       "      <th>model</th>\n",
       "      <th>regYear</th>\n",
       "      <th>regMonth</th>\n",
       "      <th>forecastVolum</th>\n",
       "      <th>bodyType</th>\n",
       "    </tr>\n",
       "  </thead>\n",
       "  <tbody>\n",
       "    <tr>\n",
       "      <th>0</th>\n",
       "      <td>1</td>\n",
       "      <td>上海</td>\n",
       "      <td>310000</td>\n",
       "      <td>3c974920a76ac9c1</td>\n",
       "      <td>2018</td>\n",
       "      <td>1</td>\n",
       "      <td>352</td>\n",
       "      <td>SUV</td>\n",
       "    </tr>\n",
       "    <tr>\n",
       "      <th>1</th>\n",
       "      <td>2</td>\n",
       "      <td>云南</td>\n",
       "      <td>530000</td>\n",
       "      <td>3c974920a76ac9c1</td>\n",
       "      <td>2018</td>\n",
       "      <td>1</td>\n",
       "      <td>353</td>\n",
       "      <td>SUV</td>\n",
       "    </tr>\n",
       "    <tr>\n",
       "      <th>2</th>\n",
       "      <td>3</td>\n",
       "      <td>内蒙古</td>\n",
       "      <td>150000</td>\n",
       "      <td>3c974920a76ac9c1</td>\n",
       "      <td>2018</td>\n",
       "      <td>1</td>\n",
       "      <td>358</td>\n",
       "      <td>SUV</td>\n",
       "    </tr>\n",
       "    <tr>\n",
       "      <th>3</th>\n",
       "      <td>4</td>\n",
       "      <td>北京</td>\n",
       "      <td>110000</td>\n",
       "      <td>3c974920a76ac9c1</td>\n",
       "      <td>2018</td>\n",
       "      <td>1</td>\n",
       "      <td>363</td>\n",
       "      <td>SUV</td>\n",
       "    </tr>\n",
       "    <tr>\n",
       "      <th>4</th>\n",
       "      <td>5</td>\n",
       "      <td>四川</td>\n",
       "      <td>510000</td>\n",
       "      <td>3c974920a76ac9c1</td>\n",
       "      <td>2018</td>\n",
       "      <td>1</td>\n",
       "      <td>366</td>\n",
       "      <td>SUV</td>\n",
       "    </tr>\n",
       "  </tbody>\n",
       "</table>\n",
       "</div>"
      ],
      "text/plain": [
       "   id province  adcode             model  regYear  regMonth  forecastVolum  \\\n",
       "0   1       上海  310000  3c974920a76ac9c1     2018         1            352   \n",
       "1   2       云南  530000  3c974920a76ac9c1     2018         1            353   \n",
       "2   3      内蒙古  150000  3c974920a76ac9c1     2018         1            358   \n",
       "3   4       北京  110000  3c974920a76ac9c1     2018         1            363   \n",
       "4   5       四川  510000  3c974920a76ac9c1     2018         1            366   \n",
       "\n",
       "  bodyType  \n",
       "0      SUV  \n",
       "1      SUV  \n",
       "2      SUV  \n",
       "3      SUV  \n",
       "4      SUV  "
      ]
     },
     "execution_count": 51,
     "metadata": {},
     "output_type": "execute_result"
    }
   ],
   "source": [
    "test_data.head()"
   ]
  },
  {
   "cell_type": "code",
   "execution_count": 52,
   "metadata": {},
   "outputs": [],
   "source": [
    "test_data[['id','forecastVolum']].to_csv('data/svr_predicting_sales.csv',index=False)"
   ]
  }
 ],
 "metadata": {
  "kernelspec": {
   "display_name": "Python 3",
   "language": "python",
   "name": "python3"
  },
  "language_info": {
   "codemirror_mode": {
    "name": "ipython",
    "version": 3
   },
   "file_extension": ".py",
   "mimetype": "text/x-python",
   "name": "python",
   "nbconvert_exporter": "python",
   "pygments_lexer": "ipython3",
   "version": "3.7.1"
  }
 },
 "nbformat": 4,
 "nbformat_minor": 2
}
